{
 "cells": [
  {
   "cell_type": "markdown",
   "id": "92ef5750",
   "metadata": {},
   "source": [
    "# BUBBLE SORT ALGORITHM ~ "
   ]
  },
  {
   "cell_type": "code",
   "execution_count": null,
   "id": "c5722aee",
   "metadata": {},
   "outputs": [],
   "source": [
    "# function for Bubble sort\n",
    "def bubblesort(customlist):\n",
    "    for i in range(len(customlist)-1): \n",
    "        print(customlist)\n",
    "        for j in range(len(customlist)-i-1):\n",
    "            if customlist[j]>customlist[j+1]:\n",
    "                customlist[j],customlist[j+1]=customlist[j+1],customlist[j]\n",
    "    print(customlist)\n",
    "    \n",
    "array1 = [5,4,3,4,1]  # Reverse form array\n",
    "a = array1 \n",
    "bubblesort(a)      "
   ]
  },
  {
   "cell_type": "code",
   "execution_count": null,
   "id": "d206e340",
   "metadata": {},
   "outputs": [],
   "source": []
  }
 ],
 "metadata": {
  "kernelspec": {
   "display_name": "Python 3 (ipykernel)",
   "language": "python",
   "name": "python3"
  },
  "language_info": {
   "codemirror_mode": {
    "name": "ipython",
    "version": 3
   },
   "file_extension": ".py",
   "mimetype": "text/x-python",
   "name": "python",
   "nbconvert_exporter": "python",
   "pygments_lexer": "ipython3",
   "version": "3.9.7"
  }
 },
 "nbformat": 4,
 "nbformat_minor": 5
}
